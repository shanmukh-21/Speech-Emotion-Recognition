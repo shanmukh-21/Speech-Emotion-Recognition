{
 "cells": [
  {
   "cell_type": "code",
   "execution_count": 1,
   "id": "e6ad22d6",
   "metadata": {},
   "outputs": [],
   "source": [
    "from FeatureExtractor import get_data\n",
    "from plotutils import model_history,c_report,plot_confusion_matrix\n",
    "import numpy as np\n",
    "from tensorflow import keras\n",
    "import sklearn\n",
    "from keras.models import  Model\n",
    "from keras.layers import *\n",
    "from keras.regularizers import *\n",
    "from keras.layers import BatchNormalization\n",
    "from sklearn.metrics import classification_report,accuracy_score,confusion_matrix\n",
    "from keras.callbacks import *\n",
    "import numpy as np\n",
    "import pandas as pd"
   ]
  },
  {
   "cell_type": "code",
   "execution_count": 2,
   "id": "3d487ec4",
   "metadata": {},
   "outputs": [],
   "source": [
    "# read data and call get_data function to get splits of data\n",
    "emodb_data = pd.read_csv('Downloads/Emodb_dataset.csv')"
   ]
  },
  {
   "cell_type": "code",
   "execution_count": 3,
   "id": "42de22c7",
   "metadata": {},
   "outputs": [
    {
     "data": {
      "text/plain": [
       "array([4, 5, 1, 4, 5, 6, 1, 1, 0, 4, 2, 5, 6, 1, 0, 4, 5, 6, 1, 1, 4, 4,\n",
       "       2, 5, 1, 4, 2, 5, 6, 1, 1, 0, 2, 5, 6, 1, 5, 6, 1, 2, 5, 6, 1, 0,\n",
       "       3, 5, 5, 1, 1, 0, 4, 2, 5, 1, 1, 0, 0, 4, 2, 5, 6, 1, 4, 2, 5, 6,\n",
       "       1, 4, 2, 5, 6, 1, 4, 2, 5, 6, 6, 1, 0, 4, 4, 2, 5, 1, 4, 2, 5, 6,\n",
       "       1, 4, 2, 5, 6, 1, 0, 4, 2, 5, 6, 1, 1, 0, 4, 2, 5, 6, 1, 3, 4, 5,\n",
       "       1, 3, 3, 2, 1, 4, 2, 5, 1, 3, 2, 5, 6, 1, 1, 3, 5, 6, 1, 1, 3, 5,\n",
       "       1, 5, 6, 1, 1, 3, 4, 4, 2, 5, 6, 1, 3, 5, 1, 0, 5, 1, 0, 5, 1, 0,\n",
       "       4, 2, 5, 1, 4, 5, 1, 1, 0, 2, 6, 1, 0, 0, 2, 6, 1, 0, 3, 4, 2, 0,\n",
       "       2, 5, 1, 2, 6, 1, 0, 2, 1, 4, 2, 1, 0, 0, 2, 5, 1, 3, 4, 2, 5, 6,\n",
       "       1, 0, 4, 5, 1, 0, 4, 4, 2, 5, 6, 1, 0, 2, 6, 1, 0, 3, 4, 2, 5, 1,\n",
       "       0, 4, 5, 6, 1, 4, 2, 5, 6, 1, 1, 0, 4, 2, 5, 6, 1, 0, 0, 2, 5, 6,\n",
       "       1, 4, 2, 5, 1, 0, 3, 5, 1, 1, 1, 0, 2, 5, 6, 1, 0, 2, 1, 6, 1, 0,\n",
       "       3, 4, 5, 1, 1, 1, 2, 6, 0, 6, 1, 0, 2, 1, 0, 3, 3, 4, 2, 5, 1, 0,\n",
       "       3, 4, 2, 5, 6, 1, 0, 4, 2, 6, 1, 0, 3, 2, 5, 6, 1, 1, 4, 2, 5, 6,\n",
       "       1, 0, 3, 4, 2, 5, 1, 4, 2, 5, 1, 0, 3, 4, 2, 5, 6, 1, 0, 3, 4, 4,\n",
       "       2, 5, 1, 3, 4, 2, 5, 1, 1, 0, 0, 3, 5, 1, 1, 0, 3, 4, 2, 5, 6, 1,\n",
       "       1, 0, 3, 2, 6, 6, 1, 1, 0, 0, 4, 4, 2, 5, 6, 6, 1, 1, 0, 3, 4, 2,\n",
       "       2, 5, 6, 1, 0, 3, 4, 4, 5, 1, 0, 4, 5, 6, 1, 1, 0, 3, 2, 6, 1, 0,\n",
       "       3, 4, 2, 6, 1, 1, 0, 3, 2, 5, 6, 1, 3, 4, 2, 5, 1, 0, 3, 2, 5, 6,\n",
       "       1, 1, 0, 0, 4, 5, 1, 1, 3, 4, 2, 5, 1, 0, 3, 4, 4, 2, 5, 3, 2, 5,\n",
       "       1, 0, 2, 5, 6, 1, 1, 0, 2, 5, 6, 1, 1, 0, 4, 2, 5, 6, 1, 0, 2, 5,\n",
       "       5, 1, 3, 4, 2, 5, 6, 1, 3, 3, 2, 5, 6, 1, 0, 3, 4, 2, 2, 5, 6, 1,\n",
       "       1, 0, 3, 4, 2, 6, 1, 1, 3, 4, 4, 2, 2, 5, 6, 1, 0, 3, 4, 2, 2, 6,\n",
       "       1, 1, 0, 3, 4, 2, 1, 0, 3, 4, 4, 2, 5, 6, 1, 0, 3, 4, 2, 2, 1, 0,\n",
       "       3, 4, 2, 6, 6, 1, 1])"
      ]
     },
     "execution_count": 3,
     "metadata": {},
     "output_type": "execute_result"
    }
   ],
   "source": [
    "from sklearn.preprocessing import LabelEncoder\n",
    "label=LabelEncoder()\n",
    "z=label.fit_transform(emodb_data['labels'])\n",
    "z"
   ]
  },
  {
   "cell_type": "code",
   "execution_count": 4,
   "id": "6f989481",
   "metadata": {},
   "outputs": [
    {
     "data": {
      "text/html": [
       "<div>\n",
       "<style scoped>\n",
       "    .dataframe tbody tr th:only-of-type {\n",
       "        vertical-align: middle;\n",
       "    }\n",
       "\n",
       "    .dataframe tbody tr th {\n",
       "        vertical-align: top;\n",
       "    }\n",
       "\n",
       "    .dataframe thead th {\n",
       "        text-align: right;\n",
       "    }\n",
       "</style>\n",
       "<table border=\"1\" class=\"dataframe\">\n",
       "  <thead>\n",
       "    <tr style=\"text-align: right;\">\n",
       "      <th></th>\n",
       "      <th>uuid</th>\n",
       "      <th>speaker</th>\n",
       "      <th>sentence</th>\n",
       "      <th>letter</th>\n",
       "      <th>labels</th>\n",
       "      <th>suffix</th>\n",
       "      <th>path</th>\n",
       "      <th>paths</th>\n",
       "    </tr>\n",
       "  </thead>\n",
       "  <tbody>\n",
       "    <tr>\n",
       "      <th>0</th>\n",
       "      <td>03a01Fa</td>\n",
       "      <td>3</td>\n",
       "      <td>a01</td>\n",
       "      <td>F</td>\n",
       "      <td>4</td>\n",
       "      <td>a</td>\n",
       "      <td>C:\\Users\\kiran\\Desktop\\MiniProject\\archive (6)...</td>\n",
       "      <td>C:\\Users\\kiran\\Desktop\\MiniProject\\archive (6)...</td>\n",
       "    </tr>\n",
       "    <tr>\n",
       "      <th>1</th>\n",
       "      <td>03a01Nc</td>\n",
       "      <td>3</td>\n",
       "      <td>a01</td>\n",
       "      <td>N</td>\n",
       "      <td>5</td>\n",
       "      <td>c</td>\n",
       "      <td>C:\\Users\\kiran\\Desktop\\MiniProject\\archive (6)...</td>\n",
       "      <td>C:\\Users\\kiran\\Desktop\\MiniProject\\archive (6)...</td>\n",
       "    </tr>\n",
       "    <tr>\n",
       "      <th>2</th>\n",
       "      <td>03a01Wa</td>\n",
       "      <td>3</td>\n",
       "      <td>a01</td>\n",
       "      <td>W</td>\n",
       "      <td>1</td>\n",
       "      <td>a</td>\n",
       "      <td>C:\\Users\\kiran\\Desktop\\MiniProject\\archive (6)...</td>\n",
       "      <td>C:\\Users\\kiran\\Desktop\\MiniProject\\archive (6)...</td>\n",
       "    </tr>\n",
       "    <tr>\n",
       "      <th>3</th>\n",
       "      <td>03a02Fc</td>\n",
       "      <td>3</td>\n",
       "      <td>a02</td>\n",
       "      <td>F</td>\n",
       "      <td>4</td>\n",
       "      <td>c</td>\n",
       "      <td>C:\\Users\\kiran\\Desktop\\MiniProject\\archive (6)...</td>\n",
       "      <td>C:\\Users\\kiran\\Desktop\\MiniProject\\archive (6)...</td>\n",
       "    </tr>\n",
       "    <tr>\n",
       "      <th>4</th>\n",
       "      <td>03a02Nc</td>\n",
       "      <td>3</td>\n",
       "      <td>a02</td>\n",
       "      <td>N</td>\n",
       "      <td>5</td>\n",
       "      <td>c</td>\n",
       "      <td>C:\\Users\\kiran\\Desktop\\MiniProject\\archive (6)...</td>\n",
       "      <td>C:\\Users\\kiran\\Desktop\\MiniProject\\archive (6)...</td>\n",
       "    </tr>\n",
       "    <tr>\n",
       "      <th>...</th>\n",
       "      <td>...</td>\n",
       "      <td>...</td>\n",
       "      <td>...</td>\n",
       "      <td>...</td>\n",
       "      <td>...</td>\n",
       "      <td>...</td>\n",
       "      <td>...</td>\n",
       "      <td>...</td>\n",
       "    </tr>\n",
       "    <tr>\n",
       "      <th>530</th>\n",
       "      <td>16b10Lb</td>\n",
       "      <td>16</td>\n",
       "      <td>b10</td>\n",
       "      <td>L</td>\n",
       "      <td>2</td>\n",
       "      <td>b</td>\n",
       "      <td>C:\\Users\\kiran\\Desktop\\MiniProject\\archive (6)...</td>\n",
       "      <td>C:\\Users\\kiran\\Desktop\\MiniProject\\archive (6)...</td>\n",
       "    </tr>\n",
       "    <tr>\n",
       "      <th>531</th>\n",
       "      <td>16b10Tb</td>\n",
       "      <td>16</td>\n",
       "      <td>b10</td>\n",
       "      <td>T</td>\n",
       "      <td>6</td>\n",
       "      <td>b</td>\n",
       "      <td>C:\\Users\\kiran\\Desktop\\MiniProject\\archive (6)...</td>\n",
       "      <td>C:\\Users\\kiran\\Desktop\\MiniProject\\archive (6)...</td>\n",
       "    </tr>\n",
       "    <tr>\n",
       "      <th>532</th>\n",
       "      <td>16b10Td</td>\n",
       "      <td>16</td>\n",
       "      <td>b10</td>\n",
       "      <td>T</td>\n",
       "      <td>6</td>\n",
       "      <td>d</td>\n",
       "      <td>C:\\Users\\kiran\\Desktop\\MiniProject\\archive (6)...</td>\n",
       "      <td>C:\\Users\\kiran\\Desktop\\MiniProject\\archive (6)...</td>\n",
       "    </tr>\n",
       "    <tr>\n",
       "      <th>533</th>\n",
       "      <td>16b10Wa</td>\n",
       "      <td>16</td>\n",
       "      <td>b10</td>\n",
       "      <td>W</td>\n",
       "      <td>1</td>\n",
       "      <td>a</td>\n",
       "      <td>C:\\Users\\kiran\\Desktop\\MiniProject\\archive (6)...</td>\n",
       "      <td>C:\\Users\\kiran\\Desktop\\MiniProject\\archive (6)...</td>\n",
       "    </tr>\n",
       "    <tr>\n",
       "      <th>534</th>\n",
       "      <td>16b10Wb</td>\n",
       "      <td>16</td>\n",
       "      <td>b10</td>\n",
       "      <td>W</td>\n",
       "      <td>1</td>\n",
       "      <td>b</td>\n",
       "      <td>C:\\Users\\kiran\\Desktop\\MiniProject\\archive (6)...</td>\n",
       "      <td>C:\\Users\\kiran\\Desktop\\MiniProject\\archive (6)...</td>\n",
       "    </tr>\n",
       "  </tbody>\n",
       "</table>\n",
       "<p>535 rows × 8 columns</p>\n",
       "</div>"
      ],
      "text/plain": [
       "        uuid  speaker sentence letter  labels suffix  \\\n",
       "0    03a01Fa        3      a01      F       4      a   \n",
       "1    03a01Nc        3      a01      N       5      c   \n",
       "2    03a01Wa        3      a01      W       1      a   \n",
       "3    03a02Fc        3      a02      F       4      c   \n",
       "4    03a02Nc        3      a02      N       5      c   \n",
       "..       ...      ...      ...    ...     ...    ...   \n",
       "530  16b10Lb       16      b10      L       2      b   \n",
       "531  16b10Tb       16      b10      T       6      b   \n",
       "532  16b10Td       16      b10      T       6      d   \n",
       "533  16b10Wa       16      b10      W       1      a   \n",
       "534  16b10Wb       16      b10      W       1      b   \n",
       "\n",
       "                                                  path  \\\n",
       "0    C:\\Users\\kiran\\Desktop\\MiniProject\\archive (6)...   \n",
       "1    C:\\Users\\kiran\\Desktop\\MiniProject\\archive (6)...   \n",
       "2    C:\\Users\\kiran\\Desktop\\MiniProject\\archive (6)...   \n",
       "3    C:\\Users\\kiran\\Desktop\\MiniProject\\archive (6)...   \n",
       "4    C:\\Users\\kiran\\Desktop\\MiniProject\\archive (6)...   \n",
       "..                                                 ...   \n",
       "530  C:\\Users\\kiran\\Desktop\\MiniProject\\archive (6)...   \n",
       "531  C:\\Users\\kiran\\Desktop\\MiniProject\\archive (6)...   \n",
       "532  C:\\Users\\kiran\\Desktop\\MiniProject\\archive (6)...   \n",
       "533  C:\\Users\\kiran\\Desktop\\MiniProject\\archive (6)...   \n",
       "534  C:\\Users\\kiran\\Desktop\\MiniProject\\archive (6)...   \n",
       "\n",
       "                                                 paths  \n",
       "0    C:\\Users\\kiran\\Desktop\\MiniProject\\archive (6)...  \n",
       "1    C:\\Users\\kiran\\Desktop\\MiniProject\\archive (6)...  \n",
       "2    C:\\Users\\kiran\\Desktop\\MiniProject\\archive (6)...  \n",
       "3    C:\\Users\\kiran\\Desktop\\MiniProject\\archive (6)...  \n",
       "4    C:\\Users\\kiran\\Desktop\\MiniProject\\archive (6)...  \n",
       "..                                                 ...  \n",
       "530  C:\\Users\\kiran\\Desktop\\MiniProject\\archive (6)...  \n",
       "531  C:\\Users\\kiran\\Desktop\\MiniProject\\archive (6)...  \n",
       "532  C:\\Users\\kiran\\Desktop\\MiniProject\\archive (6)...  \n",
       "533  C:\\Users\\kiran\\Desktop\\MiniProject\\archive (6)...  \n",
       "534  C:\\Users\\kiran\\Desktop\\MiniProject\\archive (6)...  \n",
       "\n",
       "[535 rows x 8 columns]"
      ]
     },
     "execution_count": 4,
     "metadata": {},
     "output_type": "execute_result"
    }
   ],
   "source": [
    "emodb_data['labels']=z\n",
    "emodb_data"
   ]
  },
  {
   "cell_type": "code",
   "execution_count": 5,
   "id": "4adf9db5",
   "metadata": {},
   "outputs": [],
   "source": [
    "# for 4 classes do some changes in feature extarctor file\n",
    "X_train, Y_train, X_test, Y_test = get_data()"
   ]
  },
  {
   "cell_type": "code",
   "execution_count": 6,
   "id": "399f9278",
   "metadata": {},
   "outputs": [],
   "source": [
    "Y_train = keras.utils.to_categorical(Y_train,7)\n",
    "Y_test = keras.utils.to_categorical(Y_test,7)"
   ]
  },
  {
   "cell_type": "code",
   "execution_count": 7,
   "id": "38ec8632",
   "metadata": {},
   "outputs": [],
   "source": [
    "Y=np.array(emodb_data.labels)\n",
    "from sklearn.utils.class_weight import compute_class_weight\n",
    "weight = compute_class_weight(class_weight='balanced', classes=np.unique(Y), y=Y)\n",
    "weight = {i : weight[i] for i in range(7)}"
   ]
  },
  {
   "cell_type": "code",
   "execution_count": 8,
   "id": "df7d6961",
   "metadata": {},
   "outputs": [
    {
     "data": {
      "text/plain": [
       "(290, 128, 274)"
      ]
     },
     "execution_count": 8,
     "metadata": {},
     "output_type": "execute_result"
    }
   ],
   "source": [
    "X_train.shape"
   ]
  },
  {
   "cell_type": "code",
   "execution_count": 9,
   "id": "b0a222d3",
   "metadata": {},
   "outputs": [],
   "source": [
    "input1 = Input(shape=(X_train.shape[1], X_train.shape[2]))\n",
    "lstm1 = Bidirectional(LSTM(512, return_sequences = True,))(input1)\n",
    "lstm2 = Bidirectional(LSTM(256, return_sequences = True,))(lstm1)\n",
    "flat1 = Flatten()(lstm2)"
   ]
  },
  {
   "cell_type": "code",
   "execution_count": 10,
   "id": "5aa1144f",
   "metadata": {},
   "outputs": [],
   "source": [
    "den1 = Dense(64, activation='relu',kernel_regularizer=l2(0.002))(flat1)\n",
    "den2 = Dense(7, activation='softmax')(den1)"
   ]
  },
  {
   "cell_type": "code",
   "execution_count": 11,
   "id": "b90f27ba",
   "metadata": {},
   "outputs": [],
   "source": [
    "model= Model(inputs=input1,outputs=den2)\n",
    "\n",
    "# Early stopping callback tracking val_loss\n",
    "stop_early = EarlyStopping(monitor='val_loss', mode='min',\n",
    "                           verbose=1, patience=15)"
   ]
  },
  {
   "cell_type": "code",
   "execution_count": 12,
   "id": "f04603fd",
   "metadata": {},
   "outputs": [],
   "source": [
    "# Model Checkpoint callback tracking val_accuracy\n",
    "checkpoint = ModelCheckpoint(\n",
    "    'model1.h5', \n",
    "    monitor = 'val_accuracy', \n",
    "    verbose = 1, \n",
    "    save_best_only = True\n",
    ")"
   ]
  },
  {
   "cell_type": "code",
   "execution_count": 13,
   "id": "a68d0c6c",
   "metadata": {},
   "outputs": [
    {
     "data": {
      "text/plain": [
       "<keras.engine.functional.Functional at 0x1fc9eb00400>"
      ]
     },
     "execution_count": 13,
     "metadata": {},
     "output_type": "execute_result"
    }
   ],
   "source": [
    "model.compile(optimizer='adam',loss=tf.keras.losses.CategoricalCrossentropy(from_logits=False),metrics=['accuracy'])\n",
    "model"
   ]
  },
  {
   "cell_type": "code",
   "execution_count": 15,
   "id": "e726aa1b",
   "metadata": {},
   "outputs": [
    {
     "name": "stdout",
     "output_type": "stream",
     "text": [
      "Epoch 1/15\n",
      "2/2 [==============================] - ETA: 0s - loss: 0.8947 - accuracy: 0.7520 \n",
      "Epoch 1: val_accuracy improved from 0.75000 to 0.77273, saving model to model1.h5\n",
      "2/2 [==============================] - 28s 16s/step - loss: 0.8947 - accuracy: 0.7520 - val_loss: 0.9062 - val_accuracy: 0.7727\n",
      "Epoch 2/15\n",
      "2/2 [==============================] - ETA: 0s - loss: 0.8552 - accuracy: 0.7724 \n",
      "Epoch 2: val_accuracy improved from 0.77273 to 0.79545, saving model to model1.h5\n",
      "2/2 [==============================] - 24s 14s/step - loss: 0.8552 - accuracy: 0.7724 - val_loss: 0.8649 - val_accuracy: 0.7955\n",
      "Epoch 3/15\n",
      "2/2 [==============================] - ETA: 0s - loss: 0.7963 - accuracy: 0.8455 \n",
      "Epoch 3: val_accuracy did not improve from 0.79545\n",
      "2/2 [==============================] - 24s 13s/step - loss: 0.7963 - accuracy: 0.8455 - val_loss: 1.0199 - val_accuracy: 0.7045\n",
      "Epoch 4/15\n",
      "2/2 [==============================] - ETA: 0s - loss: 0.7586 - accuracy: 0.8577 \n",
      "Epoch 4: val_accuracy did not improve from 0.79545\n",
      "2/2 [==============================] - 23s 13s/step - loss: 0.7586 - accuracy: 0.8577 - val_loss: 1.0558 - val_accuracy: 0.5682\n",
      "Epoch 5/15\n",
      "2/2 [==============================] - ETA: 0s - loss: 0.7469 - accuracy: 0.8089 \n",
      "Epoch 5: val_accuracy did not improve from 0.79545\n",
      "2/2 [==============================] - 23s 12s/step - loss: 0.7469 - accuracy: 0.8089 - val_loss: 0.8981 - val_accuracy: 0.7727\n",
      "Epoch 6/15\n",
      "2/2 [==============================] - ETA: 0s - loss: 0.7059 - accuracy: 0.8577 \n",
      "Epoch 6: val_accuracy did not improve from 0.79545\n",
      "2/2 [==============================] - 23s 12s/step - loss: 0.7059 - accuracy: 0.8577 - val_loss: 0.8686 - val_accuracy: 0.7727\n",
      "Epoch 7/15\n",
      "2/2 [==============================] - ETA: 0s - loss: 0.6912 - accuracy: 0.8496 \n",
      "Epoch 7: val_accuracy did not improve from 0.79545\n",
      "2/2 [==============================] - 23s 12s/step - loss: 0.6912 - accuracy: 0.8496 - val_loss: 0.9044 - val_accuracy: 0.7727\n",
      "Epoch 8/15\n",
      "2/2 [==============================] - ETA: 0s - loss: 0.6523 - accuracy: 0.8537 \n",
      "Epoch 8: val_accuracy did not improve from 0.79545\n",
      "2/2 [==============================] - 23s 12s/step - loss: 0.6523 - accuracy: 0.8537 - val_loss: 1.0210 - val_accuracy: 0.7273\n",
      "Epoch 9/15\n",
      "2/2 [==============================] - ETA: 0s - loss: 0.6391 - accuracy: 0.8740 \n",
      "Epoch 9: val_accuracy did not improve from 0.79545\n",
      "2/2 [==============================] - 23s 12s/step - loss: 0.6391 - accuracy: 0.8740 - val_loss: 1.0161 - val_accuracy: 0.7500\n",
      "Epoch 10/15\n",
      "2/2 [==============================] - ETA: 0s - loss: 0.5908 - accuracy: 0.9228 \n",
      "Epoch 10: val_accuracy did not improve from 0.79545\n",
      "2/2 [==============================] - 23s 13s/step - loss: 0.5908 - accuracy: 0.9228 - val_loss: 0.9682 - val_accuracy: 0.7727\n",
      "Epoch 11/15\n",
      "2/2 [==============================] - ETA: 0s - loss: 0.5808 - accuracy: 0.9146 \n",
      "Epoch 11: val_accuracy improved from 0.79545 to 0.81818, saving model to model1.h5\n",
      "2/2 [==============================] - 24s 14s/step - loss: 0.5808 - accuracy: 0.9146 - val_loss: 0.8500 - val_accuracy: 0.8182\n",
      "Epoch 12/15\n",
      "2/2 [==============================] - ETA: 0s - loss: 0.5470 - accuracy: 0.9268 \n",
      "Epoch 12: val_accuracy did not improve from 0.81818\n",
      "2/2 [==============================] - 23s 12s/step - loss: 0.5470 - accuracy: 0.9268 - val_loss: 0.9571 - val_accuracy: 0.7727\n",
      "Epoch 13/15\n",
      "2/2 [==============================] - ETA: 0s - loss: 0.5338 - accuracy: 0.9228 \n",
      "Epoch 13: val_accuracy did not improve from 0.81818\n",
      "2/2 [==============================] - 23s 12s/step - loss: 0.5338 - accuracy: 0.9228 - val_loss: 0.9265 - val_accuracy: 0.8182\n",
      "Epoch 14/15\n",
      "2/2 [==============================] - ETA: 0s - loss: 0.5060 - accuracy: 0.9350 \n",
      "Epoch 14: val_accuracy did not improve from 0.81818\n",
      "2/2 [==============================] - 23s 12s/step - loss: 0.5060 - accuracy: 0.9350 - val_loss: 0.8516 - val_accuracy: 0.7727\n",
      "Epoch 15/15\n",
      "2/2 [==============================] - ETA: 0s - loss: 0.4661 - accuracy: 0.9512 \n",
      "Epoch 15: val_accuracy did not improve from 0.81818\n",
      "2/2 [==============================] - 23s 12s/step - loss: 0.4661 - accuracy: 0.9512 - val_loss: 1.0191 - val_accuracy: 0.7955\n"
     ]
    }
   ],
   "source": [
    "history = model.fit(X_train, Y_train, validation_split=0.15, class_weight = weight, batch_size=128,epochs =15,callbacks=[checkpoint,stop_early])"
   ]
  },
  {
   "cell_type": "code",
   "execution_count": 16,
   "id": "5e538bdd",
   "metadata": {},
   "outputs": [
    {
     "name": "stdout",
     "output_type": "stream",
     "text": [
      "2/2 [==============================] - 49s 360ms/step\n",
      "2/2 [==============================] - 2s 187ms/step - loss: 0.9959 - accuracy: 0.7879\n"
     ]
    }
   ],
   "source": [
    "predict = model.predict(X_test)\n",
    "loss, accu = model.evaluate(X_test,Y_test,verbose=1)\n",
    "labels_pred = np.argmax(predict, axis = -1)    \n",
    "labels_true = np.argmax(Y_test, axis = -1)"
   ]
  },
  {
   "cell_type": "code",
   "execution_count": 17,
   "id": "4e504558",
   "metadata": {},
   "outputs": [
    {
     "data": {
      "image/png": "[encoded data removed]",
      "text/plain": [
       "<Figure size 1152x576 with 2 Axes>"
      ]
     },
     "metadata": {
      "needs_background": "light"
     },
     "output_type": "display_data"
    }
   ],
   "source": [
    "model_history(history)"
   ]
  },
  {
   "cell_type": "code",
   "execution_count": null,
   "id": "c539ab40",
   "metadata": {},
   "outputs": [],
   "source": []
  }
 ],
 "metadata": {
  "kernelspec": {
   "display_name": "Python 3 (ipykernel)",
   "language": "python",
   "name": "python3"
  },
  "language_info": {
   "codemirror_mode": {
    "name": "ipython",
    "version": 3
   },
   "file_extension": ".py",
   "mimetype": "text/x-python",
   "name": "python",
   "nbconvert_exporter": "python",
   "pygments_lexer": "ipython3",
   "version": "3.9.12"
  }
 },
 "nbformat": 4,
 "nbformat_minor": 5
}
